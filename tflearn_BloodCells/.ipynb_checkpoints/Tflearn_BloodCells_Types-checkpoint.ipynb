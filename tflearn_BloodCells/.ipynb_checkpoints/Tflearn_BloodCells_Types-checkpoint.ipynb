{
 "cells": [
  {
   "cell_type": "code",
   "execution_count": null,
   "metadata": {},
   "outputs": [],
   "source": [
    "import os\n",
    "import numpy as np\n",
    "from skimage import io\n",
    "from random import shuffle\n",
    "from scipy import misc\n",
    "from tqdm import tqdm\n",
    "import tflearn\n",
    "from tflearn.layers.conv import conv_3d, max_pool_3d, conv_2d, max_pool_2d\n",
    "from tflearn.layers.core import input_data, dropout, fully_connected\n",
    "from tflearn.layers.estimator import regression\n",
    "import tensorflow as tf"
   ]
  },
  {
   "cell_type": "code",
   "execution_count": null,
   "metadata": {},
   "outputs": [],
   "source": [
    "def get_testing_data_2d():\n",
    "    \n",
    "    EOSINOPHIL = os.listdir(\"TEST/EOSINOPHIL/\")\n",
    "    LYMPHOCYTE = os.listdir(\"TEST/LYMPHOCYTE/\")\n",
    "    MONOCYTE   = os.listdir(\"TEST/MONOCYTE/\")\n",
    "    NEUTROPHIL = os.listdir(\"TEST/NEUTROPHIL/\")\n",
    "    \n",
    "\n",
    "    testing_data = []\n",
    "    \n",
    "\n",
    "    for (imgE, imgL, imgM, imgN) in tqdm(zip(EOSINOPHIL, LYMPHOCYTE, MONOCYTE, NEUTROPHIL)):\n",
    "\n",
    "        img_e = io.imread('TEST/EOSINOPHIL/' + imgE , as_grey=True)\n",
    "        img_l = io.imread('TEST/LYMPHOCYTE/' + imgL , as_grey=True)\n",
    "        img_m = io.imread('TEST/MONOCYTE/'   + imgM , as_grey=True)\n",
    "        img_n = io.imread('TEST/NEUTROPHIL/' + imgN , as_grey=True)\n",
    "        \n",
    "        img_e = misc.imresize(img_e , (240, 240))\n",
    "        img_l = misc.imresize(img_l , (240, 240))\n",
    "        img_m = misc.imresize(img_m , (240, 240))\n",
    "        img_n = misc.imresize(img_n , (240, 240))\n",
    "        \n",
    "        testing_data.append([np.array(img_e), np.array([1, 0, 0, 0])])\n",
    "        testing_data.append([np.array(img_l), np.array([0, 1, 0, 0])])\n",
    "        testing_data.append([np.array(img_m), np.array([0, 0, 1, 0])])\n",
    "        testing_data.append([np.array(img_n), np.array([0, 0, 0, 1])])\n",
    "    \n",
    "    shuffle(testing_data)\n",
    "    \n",
    "    return testing_data\n"
   ]
  },
  {
   "cell_type": "code",
   "execution_count": null,
   "metadata": {},
   "outputs": [],
   "source": [
    "def get_training_data_2d():\n",
    "    \n",
    "    EOSINOPHIL = os.listdir(\"TRAIN/EOSINOPHIL/\")\n",
    "    LYMPHOCYTE = os.listdir(\"TRAIN/LYMPHOCYTE/\")\n",
    "    MONOCYTE   = os.listdir(\"TRAIN/MONOCYTE/\")\n",
    "    NEUTROPHIL = os.listdir(\"TRAIN/NEUTROPHIL/\")\n",
    "    \n",
    "\n",
    "    training_data = []\n",
    "    \n",
    "\n",
    "    for (imgE, imgL, imgM, imgN) in tqdm(zip(EOSINOPHIL, LYMPHOCYTE, MONOCYTE, NEUTROPHIL)):\n",
    "\n",
    "        img_e = io.imread('TRAIN/EOSINOPHIL/' + imgE , as_grey=True)\n",
    "        img_l = io.imread('TRAIN/LYMPHOCYTE/' + imgL , as_grey=True)\n",
    "        img_m = io.imread('TRAIN/MONOCYTE/'   + imgM , as_grey=True)\n",
    "        img_n = io.imread('TRAIN/NEUTROPHIL/' + imgN , as_grey=True)\n",
    "        \n",
    "        img_e = misc.imresize(img_e , (240, 240))\n",
    "        img_l = misc.imresize(img_l , (240, 240))\n",
    "        img_m = misc.imresize(img_m , (240, 240))\n",
    "        img_n = misc.imresize(img_n , (240, 240))\n",
    "        \n",
    "        training_data.append([np.array(img_e), np.array([1, 0, 0, 0])])\n",
    "        training_data.append([np.array(img_l), np.array([0, 1, 0, 0])])\n",
    "        training_data.append([np.array(img_m), np.array([0, 0, 1, 0])])\n",
    "        training_data.append([np.array(img_n), np.array([0, 0, 0, 1])])\n",
    "        \n",
    "    \n",
    "    shuffle(training_data)\n",
    "    \n",
    "    return training_data\n"
   ]
  },
  {
   "cell_type": "code",
   "execution_count": null,
   "metadata": {},
   "outputs": [],
   "source": [
    "training_data = get_training_data_2d()\n",
    "testing_data  = get_testing_data_2d()"
   ]
  },
  {
   "cell_type": "code",
   "execution_count": null,
   "metadata": {},
   "outputs": [],
   "source": [
    "x_train = np.array([i[0] for i in training_data]).reshape(-1,240,240,1)\n",
    "y_train = [i[1] for i in training_data]\n",
    "\n",
    "x_test = np.array([i[0] for i in testing_data[:3000]]).reshape(-1,240,240,1)\n",
    "y_test = [i[1] for i in testing_data[:3000]]"
   ]
  },
  {
   "cell_type": "code",
   "execution_count": null,
   "metadata": {},
   "outputs": [],
   "source": [
    "convnet = input_data(shape=[None, 240, 240, 1], name='input')\n",
    "\n",
    "convnet = conv_2d(convnet, 32, 5, activation='relu')\n",
    "convnet = max_pool_2d(convnet, 5)\n",
    "\n",
    "convnet = conv_2d(convnet, 64, 5, activation='relu')\n",
    "convnet = max_pool_2d(convnet, 5)\n",
    "\n",
    "convnet = conv_2d(convnet, 128, 5, activation='relu')\n",
    "convnet = max_pool_2d(convnet, 5)\n",
    "\n",
    "\n",
    "convnet = fully_connected(convnet, 1024, activation='relu')\n",
    "convnet = dropout(convnet, 0.8)\n",
    "\n",
    "convnet = fully_connected(convnet, 4, activation='softmax')\n",
    "convnet = regression(convnet, optimizer='adam', learning_rate=1e-3, loss='categorical_crossentropy', name='targets')\n",
    "\n",
    "model = tflearn.DNN(convnet)"
   ]
  },
  {
   "cell_type": "code",
   "execution_count": null,
   "metadata": {},
   "outputs": [],
   "source": [
    "model.fit({'input': x_train}, {'targets': y_train}, n_epoch=5, validation_set=({'input': x_test}, {'targets': y_test}), \n",
    "    snapshot_step=500, show_metric=True)"
   ]
  },
  {
   "cell_type": "code",
   "execution_count": null,
   "metadata": {},
   "outputs": [],
   "source": [
    "# Save the model\n",
    "model.save(\"model.tfl\")\n",
    "print(model)"
   ]
  }
 ],
 "metadata": {
  "kernelspec": {
   "display_name": "Python 3",
   "language": "python",
   "name": "python3"
  },
  "language_info": {
   "codemirror_mode": {
    "name": "ipython",
    "version": 3
   },
   "file_extension": ".py",
   "mimetype": "text/x-python",
   "name": "python",
   "nbconvert_exporter": "python",
   "pygments_lexer": "ipython3",
   "version": "3.6.4"
  }
 },
 "nbformat": 4,
 "nbformat_minor": 2
}
