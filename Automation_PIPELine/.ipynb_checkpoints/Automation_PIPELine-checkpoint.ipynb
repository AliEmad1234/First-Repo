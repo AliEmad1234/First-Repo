{
 "cells": [
  {
   "cell_type": "code",
   "execution_count": 70,
   "metadata": {},
   "outputs": [],
   "source": [
    "# import the libs \n",
    "import os\n",
    "import numpy as np\n",
    "import pandas as pd\n",
    "import matplotlib.pyplot as plt\n",
    "from sklearn import svm\n",
    "from sklearn.pipeline import Pipeline\n",
    "from sklearn.naive_bayes import GaussianNB\n",
    "from sklearn.externals import joblib\n",
    "\n",
    "from sklearn.model_selection import train_test_split\n",
    "from sklearn.linear_model import LogisticRegression\n",
    "from sklearn.metrics import classification_report\n",
    "from sklearn.preprocessing import LabelEncoder\n",
    "from sklearn.svm import SVC\n",
    "from sklearn.model_selection import GridSearchCV\n",
    "from sklearn.decomposition import PCA\n",
    "from sklearn.svm import LinearSVC\n",
    "\n",
    "\n",
    "%matplotlib inline"
   ]
  },
  {
   "cell_type": "markdown",
   "metadata": {},
   "source": [
    "# Automation Problem"
   ]
  },
  {
   "cell_type": "code",
   "execution_count": 234,
   "metadata": {},
   "outputs": [],
   "source": [
    "def is_int(s):\n",
    "    try: \n",
    "        int(s)\n",
    "        return True\n",
    "    except ValueError:\n",
    "        return False\n",
    "def is_float(s):\n",
    "    try:\n",
    "        if(is_int(s) == False):\n",
    "            float(s)\n",
    "            return True\n",
    "    except ValueError:\n",
    "        return False"
   ]
  },
  {
   "cell_type": "code",
   "execution_count": 272,
   "metadata": {},
   "outputs": [],
   "source": [
    "RES_DIR = os.path.join(os.path.dirname(os.path.abspath(__name__)), 'res')\n",
    "DATA_DIR = os.path.join(RES_DIR, 'pima-indians-diabetes.data.csv')\n",
    "PICKLE_DIR = os.path.join(RES_DIR, 'model.pkl')\n",
    "SCALER_DIR = os.path.join(RES_DIR, 'scale.pkl')\n",
    "LABEL_DIR = os.path.join(RES_DIR, 'label.pkl')\n",
    "\n",
    "COLS_DIR = os.path.join(RES_DIR, 'cols.pkl')\n",
    "PCA_DIR = os.path.join(RES_DIR, 'pca.pkl')\n",
    "\n",
    "dataset = pd.read_csv(DATA_DIR)"
   ]
  },
  {
   "cell_type": "code",
   "execution_count": 273,
   "metadata": {
    "scrolled": true
   },
   "outputs": [
    {
     "data": {
      "text/html": [
       "<div>\n",
       "<style scoped>\n",
       "    .dataframe tbody tr th:only-of-type {\n",
       "        vertical-align: middle;\n",
       "    }\n",
       "\n",
       "    .dataframe tbody tr th {\n",
       "        vertical-align: top;\n",
       "    }\n",
       "\n",
       "    .dataframe thead th {\n",
       "        text-align: right;\n",
       "    }\n",
       "</style>\n",
       "<table border=\"1\" class=\"dataframe\">\n",
       "  <thead>\n",
       "    <tr style=\"text-align: right;\">\n",
       "      <th></th>\n",
       "      <th>Numberoftimespregnant</th>\n",
       "      <th>Plasmaglucose</th>\n",
       "      <th>Diastolicblood</th>\n",
       "      <th>Tricepsskinfold</th>\n",
       "      <th>2-Hourserum</th>\n",
       "      <th>Bodymass</th>\n",
       "      <th>Diabetespedigree</th>\n",
       "      <th>Age</th>\n",
       "      <th>Class</th>\n",
       "    </tr>\n",
       "  </thead>\n",
       "  <tbody>\n",
       "    <tr>\n",
       "      <th>0</th>\n",
       "      <td>6</td>\n",
       "      <td>148</td>\n",
       "      <td>72</td>\n",
       "      <td>35</td>\n",
       "      <td>0</td>\n",
       "      <td>33.6</td>\n",
       "      <td>0.627</td>\n",
       "      <td>50</td>\n",
       "      <td>1</td>\n",
       "    </tr>\n",
       "    <tr>\n",
       "      <th>1</th>\n",
       "      <td>1</td>\n",
       "      <td>85</td>\n",
       "      <td>66</td>\n",
       "      <td>29</td>\n",
       "      <td>0</td>\n",
       "      <td>26.6</td>\n",
       "      <td>0.351</td>\n",
       "      <td>31</td>\n",
       "      <td>0</td>\n",
       "    </tr>\n",
       "    <tr>\n",
       "      <th>2</th>\n",
       "      <td>8</td>\n",
       "      <td>183</td>\n",
       "      <td>64</td>\n",
       "      <td>0</td>\n",
       "      <td>0</td>\n",
       "      <td>23.3</td>\n",
       "      <td>0.672</td>\n",
       "      <td>32</td>\n",
       "      <td>1</td>\n",
       "    </tr>\n",
       "    <tr>\n",
       "      <th>3</th>\n",
       "      <td>1</td>\n",
       "      <td>89</td>\n",
       "      <td>66</td>\n",
       "      <td>23</td>\n",
       "      <td>94</td>\n",
       "      <td>28.1</td>\n",
       "      <td>0.167</td>\n",
       "      <td>21</td>\n",
       "      <td>0</td>\n",
       "    </tr>\n",
       "    <tr>\n",
       "      <th>4</th>\n",
       "      <td>0</td>\n",
       "      <td>137</td>\n",
       "      <td>40</td>\n",
       "      <td>35</td>\n",
       "      <td>168</td>\n",
       "      <td>43.1</td>\n",
       "      <td>2.288</td>\n",
       "      <td>33</td>\n",
       "      <td>1</td>\n",
       "    </tr>\n",
       "  </tbody>\n",
       "</table>\n",
       "</div>"
      ],
      "text/plain": [
       "   Numberoftimespregnant  Plasmaglucose  Diastolicblood  Tricepsskinfold  \\\n",
       "0                      6            148              72               35   \n",
       "1                      1             85              66               29   \n",
       "2                      8            183              64                0   \n",
       "3                      1             89              66               23   \n",
       "4                      0            137              40               35   \n",
       "\n",
       "   2-Hourserum  Bodymass  Diabetespedigree  Age  Class  \n",
       "0            0      33.6             0.627   50      1  \n",
       "1            0      26.6             0.351   31      0  \n",
       "2            0      23.3             0.672   32      1  \n",
       "3           94      28.1             0.167   21      0  \n",
       "4          168      43.1             2.288   33      1  "
      ]
     },
     "execution_count": 273,
     "metadata": {},
     "output_type": "execute_result"
    }
   ],
   "source": [
    "if(dataset.columns[0].find('id')!=-1 or dataset.columns[0].find('ID')!=-1 or dataset.columns[0].find('Id')!=-1):\n",
    "    dataset = dataset.drop(dataset.columns[0] , axis=1)\n",
    "    print('Found ID')\n",
    "    \n",
    "dataset.head()"
   ]
  },
  {
   "cell_type": "code",
   "execution_count": 274,
   "metadata": {},
   "outputs": [
    {
     "name": "stdout",
     "output_type": "stream",
     "text": [
      "(768, 8)\n"
     ]
    }
   ],
   "source": [
    "for col_name in dataset.columns:\n",
    "    if(isinstance(dataset[col_name][0], str)):\n",
    "        encoder = LabelEncoder()\n",
    "        dataset[col_name] = encoder.fit_transform(dataset[col_name])\n",
    "\n",
    "features = dataset.iloc[:,:-1].values\n",
    "test = dataset.iloc[:,-1].values\n",
    "\n",
    "from sklearn.preprocessing import StandardScaler\n",
    "scaler = StandardScaler()\n",
    "features = scaler.fit_transform(features)\n",
    "print(features.shape)\n",
    "\n",
    "X_train, X_test, Y_train, Y_test = train_test_split(features, test , test_size=.2, random_state=0)\n"
   ]
  },
  {
   "cell_type": "code",
   "execution_count": 275,
   "metadata": {},
   "outputs": [],
   "source": [
    "svc = SVC(kernel = 'rbf', random_state = 0)\n",
    "logistic = LogisticRegression()\n",
    "lsvc = LinearSVC()\n",
    "nbays = GaussianNB()"
   ]
  },
  {
   "cell_type": "code",
   "execution_count": 276,
   "metadata": {
    "scrolled": true
   },
   "outputs": [
    {
     "name": "stdout",
     "output_type": "stream",
     "text": [
      "best accuracy is : 0.7100977198697068\n",
      "{'C': 1, 'kernel': 'linear'}\n",
      "=========================\n",
      "best accuracy is : 0.7182410423452769\n",
      "{'C': 1, 'gamma': 0.1, 'kernel': 'rbf'}\n",
      "=========================\n",
      "best accuracy is : 0.7296416938110749\n",
      "{'C': 20, 'gamma': 0.4, 'kernel': 'rbf'}\n",
      "=========================\n",
      "best accuracy is : 0.7214983713355049\n",
      "{'C': 1, 'kernel': 'linear'}\n",
      "=========================\n",
      "best accuracy is : 0.750814332247557\n",
      "{'C': 20, 'kernel': 'linear'}\n",
      "=========================\n",
      "best accuracy is : 0.760586319218241\n",
      "{'C': 1, 'gamma': 0.1, 'kernel': 'rbf'}\n",
      "=========================\n",
      "best accuracy is : 0.7052117263843648\n",
      "{'random_state': 0}\n",
      "=========================\n",
      "best accuracy is : 0.7149837133550488\n",
      "{'random_state': 0}\n",
      "=========================\n",
      "best accuracy is : 0.7296416938110749\n",
      "{'random_state': 0}\n",
      "=========================\n",
      "best accuracy is : 0.7231270358306189\n",
      "{'random_state': 0}\n",
      "=========================\n",
      "best accuracy is : 0.744299674267101\n",
      "{'random_state': 0}\n",
      "=========================\n",
      "best accuracy is : 0.744299674267101\n",
      "{'random_state': 0}\n",
      "=========================\n",
      "best accuracy is : 0.7035830618892508\n",
      "{'random_state': 0}\n",
      "=========================\n",
      "best accuracy is : 0.7133550488599348\n",
      "{'random_state': 0}\n",
      "=========================\n",
      "best accuracy is : 0.7247557003257329\n",
      "{'random_state': 0}\n",
      "=========================\n",
      "best accuracy is : 0.7166123778501629\n",
      "{'random_state': 0}\n",
      "=========================\n",
      "best accuracy is : 0.745928338762215\n",
      "{'random_state': 0}\n",
      "=========================\n",
      "best accuracy is : 0.747557003257329\n",
      "{'random_state': 0}\n",
      "=========================\n",
      "best accuracy is : 0.7019543973941368\n",
      "{'priors': None}\n",
      "=========================\n",
      "best accuracy is : 0.7100977198697068\n",
      "{'priors': None}\n",
      "=========================\n",
      "best accuracy is : 0.7182410423452769\n",
      "{'priors': None}\n",
      "=========================\n",
      "best accuracy is : 0.7117263843648208\n",
      "{'priors': None}\n",
      "=========================\n",
      "best accuracy is : 0.745928338762215\n",
      "{'priors': None}\n",
      "=========================\n",
      "best accuracy is : 0.741042345276873\n",
      "{'priors': None}\n",
      "=========================\n"
     ]
    }
   ],
   "source": [
    "modelsRes = []\n",
    "\n",
    "estimators = {'svc': svc, 'logistic': logistic, 'lsvc': lsvc,'nbays': nbays}\n",
    "\n",
    "parameters_svc = [{'C': [1,20,200,1000], 'kernel': ['linear']},\n",
    "              {'C': [1,20,200,1000], 'kernel': ['rbf'], 'gamma': [0.1, 0.2, 0.3, 0.4, 0.5, 0.6, 0.7, 0.8, 0.9]}]\n",
    "\n",
    "parameters_logistic = [{'random_state': [0]}]\n",
    "\n",
    "parameters_lsvc = [{'random_state': [0]}]\n",
    "\n",
    "parameters_nbays = [{'priors': [None]}]\n",
    "\n",
    "parameters = [parameters_svc, parameters_logistic, parameters_lsvc,parameters_nbays]\n",
    "\n",
    "\n",
    "for parameter,estimator_c,names in zip(parameters, estimators.values(), estimators.keys()):\n",
    "    \n",
    "    \n",
    "    for n in range(1,features.shape[1]-1):\n",
    "        \n",
    "        X_train, X_test, Y_train, Y_test = train_test_split(features, test , test_size=.2, random_state=0)\n",
    "\n",
    "        pca = PCA(n_components=n)\n",
    "        pca.fit(X_train)\n",
    "        X_train = pca.transform(X_train)\n",
    "        X_test  = pca.transform(X_test)\n",
    "\n",
    "        grid_search = GridSearchCV(estimator = estimator_c,\n",
    "                                   param_grid = parameter,\n",
    "                                   cv = 10,\n",
    "                                   n_jobs = -1)\n",
    "\n",
    "        grid_search = grid_search.fit(X_train, Y_train)\n",
    "        print(\"best accuracy is :\" , grid_search.best_score_)\n",
    "        print(grid_search.best_params_)\n",
    "        print('=========================')\n",
    "        modelsRes.append([grid_search.best_score_, grid_search.best_params_, names, estimator_c, n,pca])"
   ]
  },
  {
   "cell_type": "code",
   "execution_count": 277,
   "metadata": {},
   "outputs": [],
   "source": [
    "modelsRes.sort(key= lambda x:x[0], reverse=True)"
   ]
  },
  {
   "cell_type": "code",
   "execution_count": 278,
   "metadata": {},
   "outputs": [],
   "source": [
    "names = modelsRes[0][1].keys()\n",
    "values = modelsRes[0][1].values()\n",
    "\n",
    "for name, value in zip(names, values):\n",
    "    setattr(modelsRes[0][3], name, value)"
   ]
  },
  {
   "cell_type": "code",
   "execution_count": 279,
   "metadata": {},
   "outputs": [
    {
     "data": {
      "text/plain": [
       "SVC(C=1, cache_size=200, class_weight=None, coef0=0.0,\n",
       "  decision_function_shape='ovr', degree=3, gamma=0.1, kernel='rbf',\n",
       "  max_iter=-1, probability=False, random_state=0, shrinking=True,\n",
       "  tol=0.001, verbose=False)"
      ]
     },
     "execution_count": 279,
     "metadata": {},
     "output_type": "execute_result"
    }
   ],
   "source": [
    "modelsRes[0][3].fit(X_train, Y_train)"
   ]
  },
  {
   "cell_type": "code",
   "execution_count": 280,
   "metadata": {},
   "outputs": [
    {
     "name": "stdout",
     "output_type": "stream",
     "text": [
      "the best accuracy is: 0.760586319218241, with the algrithm: svc, with best parameters: {'C': 1, 'gamma': 0.1, 'kernel': 'rbf'} and with 6 PCA reduction number \n"
     ]
    }
   ],
   "source": [
    "print(\"the best accuracy is: {}, with the algrithm: {}, with best parameters: {} and with {} PCA reduction number \".format(modelsRes[0][0], modelsRes[0][2], modelsRes[0][1], modelsRes[0][4]))"
   ]
  },
  {
   "cell_type": "code",
   "execution_count": 281,
   "metadata": {},
   "outputs": [
    {
     "data": {
      "text/plain": [
       "['F:\\\\First-Repo\\\\New folder\\\\res\\\\pca.pkl']"
      ]
     },
     "execution_count": 281,
     "metadata": {},
     "output_type": "execute_result"
    }
   ],
   "source": [
    "# now we want to save the model with it's preprocessing units !\n",
    "joblib.dump(modelsRes[0][3], PICKLE_DIR)\n",
    "joblib.dump(scaler, SCALER_DIR)\n",
    "joblib.dump(encoder, LABEL_DIR)\n",
    "\n",
    "joblib.dump(dataset.columns, COLS_DIR)\n",
    "joblib.dump(modelsRes[0][5], PCA_DIR)"
   ]
  },
  {
   "cell_type": "markdown",
   "metadata": {},
   "source": [
    "# App"
   ]
  },
  {
   "cell_type": "code",
   "execution_count": 282,
   "metadata": {},
   "outputs": [
    {
     "name": "stdout",
     "output_type": "stream",
     "text": [
      "enter Numberoftimespregnant  Plasmaglucose  Diastolicblood  Tricepsskinfold  2-Hourserum  Bodymass  Diabetespedigree  Age  6, 148, 72, 35, 0, 33.6, 0.627, 50\n",
      "values:  [6, 148, 72, 35, 0, 33.6, 0.627, 50]\n",
      "features:  [[ 0.90682855  1.32279321  0.03381238  0.51251323 -0.00780884  0.42938155]]\n",
      "the prediction is : 1\n",
      "enter Numberoftimespregnant  Plasmaglucose  Diastolicblood  Tricepsskinfold  2-Hourserum  Bodymass  Diabetespedigree  Age  \n",
      "values:  [0]\n",
      "thanks\n"
     ]
    }
   ],
   "source": [
    "# first let's set the path of the data\n",
    "\n",
    "# the good way\n",
    "\n",
    "RES_DIR = os.path.join(os.path.dirname(os.path.abspath(__name__)), 'res')\n",
    "PICKLE_DIR = os.path.join(RES_DIR, 'model.pkl')\n",
    "SCALER_DIR = os.path.join(RES_DIR, 'scale.pkl')\n",
    "LABEL_DIR = os.path.join(RES_DIR, 'label.pkl')\n",
    "\n",
    "COLS_DIR = os.path.join(RES_DIR, 'cols.pkl')\n",
    "PCA_DIR = os.path.join(RES_DIR, 'pca.pkl')\n",
    "\n",
    "\n",
    "# load the pickles\n",
    "clf = joblib.load(PICKLE_DIR)\n",
    "scaler = joblib.load(SCALER_DIR)\n",
    "encoder = joblib.load(LABEL_DIR)\n",
    "cols = joblib.load(COLS_DIR)\n",
    "pca = joblib.load(PCA_DIR)\n",
    "\n",
    "\n",
    "# NOTE: you need to do the same preprocessing on the data as you did in training\n",
    "def preprocess(values):\n",
    "    '''\n",
    "    this function should return the values as the model expect it\n",
    "    '''\n",
    "    for i,f in enumerate(values):\n",
    "        if(isinstance(f, str)):\n",
    "            values[i] = encoder.fit_transform([f])[0]\n",
    "    \n",
    "           \n",
    "\n",
    "    print('values: ',values)\n",
    "    \n",
    "    scaled = [scaler.transform([values])][0]\n",
    "    \n",
    "    pca_values = pca.transform(scaled)\n",
    "    \n",
    "    return pca_values\n",
    "\n",
    "\n",
    "while True:\n",
    "    print('enter ',end='')\n",
    "    for col_name in cols[:-1]:\n",
    "        print(col_name,' ', end='')\n",
    "    values = input().split(',')\n",
    "    \n",
    "    try:\n",
    "        values = [int(i) if is_int(i) else i for i in values]\n",
    "        values = [float(i) if is_float(i) else i for i in values]\n",
    "        \n",
    "        feature_vector = preprocess(values)\n",
    "        print('features: ',feature_vector)\n",
    "        predict = clf.predict(feature_vector)\n",
    "        print(\"the prediction is : {}\".format(predict[0]))\n",
    "    except:\n",
    "        break\n",
    "print(\"thanks\")"
   ]
  },
  {
   "cell_type": "markdown",
   "metadata": {},
   "source": [
    "--------------------------------------------------------------------------------------------------------------------------------"
   ]
  },
  {
   "cell_type": "markdown",
   "metadata": {},
   "source": [
    "# PipeLines"
   ]
  },
  {
   "cell_type": "code",
   "execution_count": 86,
   "metadata": {},
   "outputs": [
    {
     "data": {
      "text/plain": [
       "Pipeline(memory=None,\n",
       "     steps=[('sc', StandardScaler(copy=True, with_mean=True, with_std=True)), ('svc', SVC(C=1.0, cache_size=200, class_weight=None, coef0=0.0,\n",
       "  decision_function_shape='ovr', degree=3, gamma='auto', kernel='linear',\n",
       "  max_iter=-1, probability=False, random_state=None, shrinking=True,\n",
       "  tol=0.001, verbose=False))])"
      ]
     },
     "execution_count": 86,
     "metadata": {},
     "output_type": "execute_result"
    }
   ],
   "source": [
    "sc = StandardScaler()\n",
    "\n",
    "pca = PCA()\n",
    "clf = svm.SVC(kernel='linear')\n",
    "pca_svm = Pipeline([('sc', sc), ('svc', clf)])\n",
    "pca_svm.fit(X_train, Y_train)"
   ]
  },
  {
   "cell_type": "code",
   "execution_count": 87,
   "metadata": {},
   "outputs": [
    {
     "data": {
      "text/plain": [
       "0.8116883116883117"
      ]
     },
     "execution_count": 87,
     "metadata": {},
     "output_type": "execute_result"
    }
   ],
   "source": [
    "pca_svm.score(X_test, Y_test)"
   ]
  }
 ],
 "metadata": {
  "kernelspec": {
   "display_name": "Python 3",
   "language": "python",
   "name": "python3"
  },
  "language_info": {
   "codemirror_mode": {
    "name": "ipython",
    "version": 3
   },
   "file_extension": ".py",
   "mimetype": "text/x-python",
   "name": "python",
   "nbconvert_exporter": "python",
   "pygments_lexer": "ipython3",
   "version": "3.6.4"
  }
 },
 "nbformat": 4,
 "nbformat_minor": 2
}
