{
 "cells": [
  {
   "cell_type": "code",
   "execution_count": 4,
   "metadata": {},
   "outputs": [],
   "source": [
    "# import the libs \n",
    "import os\n",
    "import numpy as np\n",
    "import pandas as pd\n",
    "import matplotlib.pyplot as plt\n",
    "from sklearn import svm\n",
    "from sklearn.pipeline import Pipeline\n",
    "from sklearn.naive_bayes import GaussianNB\n",
    "\n",
    "\n",
    "from sklearn.model_selection import train_test_split\n",
    "from sklearn.linear_model import LogisticRegression\n",
    "from sklearn.metrics import classification_report\n",
    "from sklearn.preprocessing import LabelEncoder\n",
    "from sklearn.svm import SVC\n",
    "from sklearn.model_selection import GridSearchCV\n",
    "from sklearn.decomposition import PCA\n",
    "from sklearn.svm import LinearSVC\n",
    "\n",
    "\n",
    "%matplotlib inline"
   ]
  },
  {
   "cell_type": "code",
   "execution_count": null,
   "metadata": {},
   "outputs": [],
   "source": [
    "RES_DIR = os.path.join(os.path.dirname(os.path.abspath(__file__)), 'res')\n",
    "DATA_DIR = os.path.join(RES_DIR, 'Social_Network_Ads.csv')\n",
    "PICKLE_DIR = os.path.join(RES_DIR, 'model.pkl')\n",
    "SCALER_DIR = os.path.join(RES_DIR, 'scale.pkl')\n",
    "LABEL_DIR = os.path.join(RES_DIR, 'label.pkl')"
   ]
  },
  {
   "cell_type": "code",
   "execution_count": 5,
   "metadata": {
    "scrolled": true
   },
   "outputs": [
    {
     "data": {
      "text/html": [
       "<div>\n",
       "<style scoped>\n",
       "    .dataframe tbody tr th:only-of-type {\n",
       "        vertical-align: middle;\n",
       "    }\n",
       "\n",
       "    .dataframe tbody tr th {\n",
       "        vertical-align: top;\n",
       "    }\n",
       "\n",
       "    .dataframe thead th {\n",
       "        text-align: right;\n",
       "    }\n",
       "</style>\n",
       "<table border=\"1\" class=\"dataframe\">\n",
       "  <thead>\n",
       "    <tr style=\"text-align: right;\">\n",
       "      <th></th>\n",
       "      <th>User ID</th>\n",
       "      <th>Gender</th>\n",
       "      <th>Age</th>\n",
       "      <th>EstimatedSalary</th>\n",
       "      <th>Purchased</th>\n",
       "    </tr>\n",
       "  </thead>\n",
       "  <tbody>\n",
       "    <tr>\n",
       "      <th>0</th>\n",
       "      <td>15624510</td>\n",
       "      <td>Male</td>\n",
       "      <td>19.0</td>\n",
       "      <td>19000.0</td>\n",
       "      <td>0</td>\n",
       "    </tr>\n",
       "    <tr>\n",
       "      <th>1</th>\n",
       "      <td>15810944</td>\n",
       "      <td>Male</td>\n",
       "      <td>35.0</td>\n",
       "      <td>20000.0</td>\n",
       "      <td>0</td>\n",
       "    </tr>\n",
       "    <tr>\n",
       "      <th>2</th>\n",
       "      <td>15668575</td>\n",
       "      <td>Female</td>\n",
       "      <td>26.0</td>\n",
       "      <td>43000.0</td>\n",
       "      <td>0</td>\n",
       "    </tr>\n",
       "    <tr>\n",
       "      <th>3</th>\n",
       "      <td>15603246</td>\n",
       "      <td>Female</td>\n",
       "      <td>27.0</td>\n",
       "      <td>57000.0</td>\n",
       "      <td>0</td>\n",
       "    </tr>\n",
       "    <tr>\n",
       "      <th>4</th>\n",
       "      <td>15804002</td>\n",
       "      <td>Male</td>\n",
       "      <td>19.0</td>\n",
       "      <td>76000.0</td>\n",
       "      <td>0</td>\n",
       "    </tr>\n",
       "  </tbody>\n",
       "</table>\n",
       "</div>"
      ],
      "text/plain": [
       "    User ID  Gender   Age  EstimatedSalary  Purchased\n",
       "0  15624510    Male  19.0          19000.0          0\n",
       "1  15810944    Male  35.0          20000.0          0\n",
       "2  15668575  Female  26.0          43000.0          0\n",
       "3  15603246  Female  27.0          57000.0          0\n",
       "4  15804002    Male  19.0          76000.0          0"
      ]
     },
     "execution_count": 5,
     "metadata": {},
     "output_type": "execute_result"
    }
   ],
   "source": [
    "dataset = pd.read_csv('pima_indians/Social_Network_Ads.csv')\n",
    "dataset.head()"
   ]
  },
  {
   "cell_type": "code",
   "execution_count": null,
   "metadata": {},
   "outputs": [],
   "source": []
  },
  {
   "cell_type": "code",
   "execution_count": 6,
   "metadata": {},
   "outputs": [],
   "source": [
    "for col_name in dataset.columns:\n",
    "    if(isinstance(dataset[col_name][0], str)):\n",
    "        encoder = LabelEncoder()\n",
    "        dataset[col_name] = encoder.fit_transform(dataset[col_name])\n",
    "\n",
    "features = dataset.iloc[:,:-1].values\n",
    "test = dataset.iloc[:,-1].values\n",
    "\n",
    "from sklearn.preprocessing import StandardScaler\n",
    "scaler = StandardScaler()\n",
    "features = scaler.fit_transform(features)\n",
    "\n",
    "\n",
    "\n",
    "X_train, X_test, Y_train, Y_test = train_test_split(features, test , test_size=.2, random_state=0)\n"
   ]
  },
  {
   "cell_type": "code",
   "execution_count": 7,
   "metadata": {},
   "outputs": [],
   "source": [
    "svc = SVC(kernel = 'rbf', random_state = 0)\n",
    "logistic = LogisticRegression()\n",
    "lsvc = LinearSVC()\n",
    "nbays = GaussianNB()"
   ]
  },
  {
   "cell_type": "code",
   "execution_count": 8,
   "metadata": {},
   "outputs": [
    {
     "name": "stdout",
     "output_type": "stream",
     "text": [
      "best accuracy is : 0.74375\n",
      "{'C': 1, 'kernel': 'linear'}\n",
      "=========================\n",
      "best accuracy is : 0.809375\n",
      "{'C': 1, 'gamma': 0.1, 'kernel': 'rbf'}\n",
      "=========================\n",
      "best accuracy is : 0.740625\n",
      "{'random_state': 0}\n",
      "=========================\n",
      "best accuracy is : 0.80625\n",
      "{'random_state': 0}\n",
      "=========================\n",
      "best accuracy is : 0.7375\n",
      "{'random_state': 0}\n",
      "=========================\n",
      "best accuracy is : 0.803125\n",
      "{'random_state': 0}\n",
      "=========================\n",
      "best accuracy is : 0.74375\n",
      "{'priors': None}\n",
      "=========================\n",
      "best accuracy is : 0.815625\n",
      "{'priors': None}\n",
      "=========================\n"
     ]
    }
   ],
   "source": [
    "modelsRes = []\n",
    "\n",
    "estimators = {'svc': svc, 'logistic': logistic, 'lsvc': lsvc,'nbays': nbays}\n",
    "\n",
    "parameters_svc = [{'C': [1,20,200,1000], 'kernel': ['linear']},\n",
    "              {'C': [1,20,200,1000], 'kernel': ['rbf'], 'gamma': [0.1, 0.2, 0.3, 0.4, 0.5, 0.6, 0.7, 0.8, 0.9]}]\n",
    "\n",
    "parameters_logistic = [{'random_state': [0]}]\n",
    "\n",
    "parameters_lsvc = [{'random_state': [0]}]\n",
    "\n",
    "parameters_nbays = [{'priors': [None]}]\n",
    "\n",
    "parameters = [parameters_svc, parameters_logistic, parameters_lsvc,parameters_nbays]\n",
    "\n",
    "\n",
    "for parameter,estimator_c,names in zip(parameters, estimators.values(), estimators.keys()):\n",
    "    \n",
    "    \n",
    "    for n in range(1,features.shape[1]-1):\n",
    "        \n",
    "        X_train, X_test, Y_train, Y_test = train_test_split(features, test , test_size=.2, random_state=0)\n",
    "\n",
    "        pca = PCA(n_components=n)\n",
    "        pca.fit(X_train)\n",
    "        X_train = pca.transform(X_train)\n",
    "        X_test  = pca.transform(X_test)\n",
    "\n",
    "        grid_search = GridSearchCV(estimator = estimator_c,\n",
    "                                   param_grid = parameter,\n",
    "                                   cv = 10,\n",
    "                                   n_jobs = -1)\n",
    "\n",
    "        grid_search = grid_search.fit(X_train, Y_train)\n",
    "        print(\"best accuracy is :\" , grid_search.best_score_)\n",
    "        print(grid_search.best_params_)\n",
    "        print('=========================')\n",
    "        modelsRes.append([grid_search.best_score_, grid_search.best_params_, names, estimator_c, n])"
   ]
  },
  {
   "cell_type": "code",
   "execution_count": 9,
   "metadata": {},
   "outputs": [],
   "source": [
    "modelsRes.sort(key= lambda x:x[0], reverse=True)"
   ]
  },
  {
   "cell_type": "markdown",
   "metadata": {},
   "source": [
    "--------------------------------------------------------------------------------------------------------------------------------"
   ]
  },
  {
   "cell_type": "markdown",
   "metadata": {},
   "source": [
    "# PipeLines"
   ]
  },
  {
   "cell_type": "code",
   "execution_count": 10,
   "metadata": {},
   "outputs": [
    {
     "data": {
      "text/plain": [
       "Pipeline(memory=None,\n",
       "     steps=[('sc', StandardScaler(copy=True, with_mean=True, with_std=True)), ('svc', SVC(C=1.0, cache_size=200, class_weight=None, coef0=0.0,\n",
       "  decision_function_shape='ovr', degree=3, gamma='auto', kernel='linear',\n",
       "  max_iter=-1, probability=False, random_state=None, shrinking=True,\n",
       "  tol=0.001, verbose=False))])"
      ]
     },
     "execution_count": 10,
     "metadata": {},
     "output_type": "execute_result"
    }
   ],
   "source": [
    "sc = StandardScaler()\n",
    "\n",
    "pca = PCA()\n",
    "clf = svm.SVC(kernel='linear')\n",
    "pca_svm = Pipeline([('sc', sc), ('svc', clf)])\n",
    "#pca_svm.set_params(sc__fit_transform(X_train), sc__fit(X_test))\n",
    "pca_svm.fit(X_train, Y_train)"
   ]
  },
  {
   "cell_type": "code",
   "execution_count": 11,
   "metadata": {},
   "outputs": [
    {
     "data": {
      "text/plain": [
       "0.9"
      ]
     },
     "execution_count": 11,
     "metadata": {},
     "output_type": "execute_result"
    }
   ],
   "source": [
    "pca_svm.score(X_test, Y_test)"
   ]
  },
  {
   "cell_type": "code",
   "execution_count": null,
   "metadata": {},
   "outputs": [],
   "source": []
  }
 ],
 "metadata": {
  "kernelspec": {
   "display_name": "Python 3",
   "language": "python",
   "name": "python3"
  },
  "language_info": {
   "codemirror_mode": {
    "name": "ipython",
    "version": 3
   },
   "file_extension": ".py",
   "mimetype": "text/x-python",
   "name": "python",
   "nbconvert_exporter": "python",
   "pygments_lexer": "ipython3",
   "version": "3.6.4"
  }
 },
 "nbformat": 4,
 "nbformat_minor": 2
}
