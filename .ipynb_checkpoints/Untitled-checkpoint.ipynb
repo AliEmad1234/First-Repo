{
 "cells": [
  {
   "cell_type": "code",
   "execution_count": 25,
   "metadata": {},
   "outputs": [],
   "source": [
    "import re\n",
    "import os\n",
    "import pandas as pd\n",
    "import numpy as np\n",
    "import re \n",
    "%matplotlib inline\n",
    "from matplotlib import pyplot as plt\n",
    "from tqdm import tqdm\n",
    "import time\n"
   ]
  },
  {
   "cell_type": "code",
   "execution_count": 6,
   "metadata": {},
   "outputs": [
    {
     "data": {
      "text/plain": [
       "['123']"
      ]
     },
     "execution_count": 6,
     "metadata": {},
     "output_type": "execute_result"
    }
   ],
   "source": [
    "x = \"123lkj\"\n",
    "re.findall(r'\\d+' , x)"
   ]
  },
  {
   "cell_type": "code",
   "execution_count": 4,
   "metadata": {},
   "outputs": [],
   "source": [
    "positives = os.listdir(\"Twitter/Positive\")\n",
    "negatives = os.listdir(\"Twitter/Negative\")\n",
    "\n",
    "tweets = []\n",
    "\n",
    "for (file_n , file_p) in zip(negatives , positives):\n",
    "    \n",
    "    f_n = open('Twitter/Negative/'+file_n , 'r' , encoding = \"utf-8\")\n",
    "    f_p = open('Twitter/Positive/'+file_p , 'r' , encoding = \"utf-8\")\n",
    "    \n",
    "    try:\n",
    "        tweets.append([f_n.read().strip() , 'n'])\n",
    "        tweets.append([f_p.read().strip() , 'p'])\n",
    "    except:\n",
    "        pass\n",
    "    \n",
    "    \n",
    "    f_n.close()\n",
    "    f_p.close()\n",
    "    \n",
    "    \n",
    "    \n",
    "    "
   ]
  },
  {
   "cell_type": "code",
   "execution_count": null,
   "metadata": {},
   "outputs": [],
   "source": []
  },
  {
   "cell_type": "code",
   "execution_count": 5,
   "metadata": {},
   "outputs": [],
   "source": [
    "tweets = np.array(tweets)\n",
    "for tweet in tweets:\n",
    "    tweet[0] = re.sub('\\ufeff','',tweet[0]).strip()\n",
    "    "
   ]
  },
  {
   "cell_type": "code",
   "execution_count": 6,
   "metadata": {},
   "outputs": [],
   "source": [
    "tweets_df = pd.DataFrame({'text': tweets[: , 0] , 'label': tweets[: , 1]})\n"
   ]
  },
  {
   "cell_type": "code",
   "execution_count": 7,
   "metadata": {},
   "outputs": [
    {
     "data": {
      "text/html": [
       "<div>\n",
       "<style scoped>\n",
       "    .dataframe tbody tr th:only-of-type {\n",
       "        vertical-align: middle;\n",
       "    }\n",
       "\n",
       "    .dataframe tbody tr th {\n",
       "        vertical-align: top;\n",
       "    }\n",
       "\n",
       "    .dataframe thead th {\n",
       "        text-align: right;\n",
       "    }\n",
       "</style>\n",
       "<table border=\"1\" class=\"dataframe\">\n",
       "  <thead>\n",
       "    <tr style=\"text-align: right;\">\n",
       "      <th></th>\n",
       "      <th>label</th>\n",
       "      <th>text</th>\n",
       "    </tr>\n",
       "  </thead>\n",
       "  <tbody>\n",
       "    <tr>\n",
       "      <th>0</th>\n",
       "      <td>n</td>\n",
       "      <td>و الله حرام و الله موتوه لشعب الاردني من وين ب...</td>\n",
       "    </tr>\n",
       "    <tr>\n",
       "      <th>1</th>\n",
       "      <td>p</td>\n",
       "      <td>حقا</td>\n",
       "    </tr>\n",
       "    <tr>\n",
       "      <th>2</th>\n",
       "      <td>n</td>\n",
       "      <td>البنزين يجي من السعوديه بأقل الاسعار و الحكومه...</td>\n",
       "    </tr>\n",
       "    <tr>\n",
       "      <th>3</th>\n",
       "      <td>p</td>\n",
       "      <td>صح جدا</td>\n",
       "    </tr>\n",
       "    <tr>\n",
       "      <th>4</th>\n",
       "      <td>n</td>\n",
       "      <td>الله يوخذكم</td>\n",
       "    </tr>\n",
       "  </tbody>\n",
       "</table>\n",
       "</div>"
      ],
      "text/plain": [
       "  label                                               text\n",
       "0     n  و الله حرام و الله موتوه لشعب الاردني من وين ب...\n",
       "1     p                                                حقا\n",
       "2     n  البنزين يجي من السعوديه بأقل الاسعار و الحكومه...\n",
       "3     p                                             صح جدا\n",
       "4     n                                        الله يوخذكم"
      ]
     },
     "execution_count": 7,
     "metadata": {},
     "output_type": "execute_result"
    }
   ],
   "source": [
    "tweets_df.head()"
   ]
  },
  {
   "cell_type": "code",
   "execution_count": 9,
   "metadata": {},
   "outputs": [
    {
     "data": {
      "text/plain": [
       "<1982x2000 sparse matrix of type '<class 'numpy.float64'>'\n",
       "\twith 11236 stored elements in Compressed Sparse Row format>"
      ]
     },
     "execution_count": 9,
     "metadata": {},
     "output_type": "execute_result"
    }
   ],
   "source": [
    "from sklearn.feature_extraction.text import TfidfVectorizer\n",
    "\n",
    "vectorizer = TfidfVectorizer(max_features=2000)\n",
    "\n",
    "vectorizer.fit(tweets_df['text'])\n",
    "\n",
    "feature_matrix = vectorizer.transform(tweets_df['text'])\n",
    "\n",
    "feature_matrix"
   ]
  },
  {
   "cell_type": "code",
   "execution_count": 10,
   "metadata": {},
   "outputs": [
    {
     "name": "stdout",
     "output_type": "stream",
     "text": [
      "1585\n",
      "397\n"
     ]
    }
   ],
   "source": [
    "from sklearn.model_selection import train_test_split\n",
    "\n",
    "x_train, x_test, y_train, y_test = train_test_split(feature_matrix, tweets_df['label']\n",
    "                                                    , test_size=0.2, random_state=0)\n",
    "\n",
    "print(len(y_train))\n",
    "print(len(y_test))"
   ]
  },
  {
   "cell_type": "code",
   "execution_count": 13,
   "metadata": {},
   "outputs": [
    {
     "name": "stdout",
     "output_type": "stream",
     "text": [
      "             precision    recall  f1-score   support\n",
      "\n",
      "          n       0.84      0.85      0.84       198\n",
      "          p       0.85      0.84      0.84       199\n",
      "\n",
      "avg / total       0.84      0.84      0.84       397\n",
      "\n"
     ]
    }
   ],
   "source": [
    "from sklearn.svm import LinearSVC\n",
    "from sklearn.metrics import classification_report\n",
    "\n",
    "clf = LinearSVC()\n",
    "\n",
    "clf.fit(x_train, y_train)\n",
    "\n",
    "y_pred = clf.predict(x_test)\n",
    "\n",
    "print(classification_report(y_test, y_pred))"
   ]
  },
  {
   "cell_type": "code",
   "execution_count": 14,
   "metadata": {},
   "outputs": [],
   "source": [
    "from sklearn.linear_model import LogisticRegression\n",
    "logistic = LogisticRegression(random_state = 0)\n",
    "logistic.fit(x_train, y_train)\n",
    "\n",
    "from sklearn.metrics import confusion_matrix\n",
    "cm = confusion_matrix(y_test, logistic.predict(x_test))\n",
    "pd.DataFrame(cm)\n",
    "\n",
    "logistic.score(x_test, y_test)\n",
    "\n",
    "y_pred = logistic.predict_proba(x_test)"
   ]
  },
  {
   "cell_type": "code",
   "execution_count": null,
   "metadata": {},
   "outputs": [],
   "source": []
  },
  {
   "cell_type": "code",
   "execution_count": 15,
   "metadata": {},
   "outputs": [
    {
     "data": {
      "text/plain": [
       "array([0.85      , 0.88125   , 0.81761006, 0.8164557 , 0.87974684,\n",
       "       0.86075949, 0.85443038, 0.82278481, 0.84177215, 0.80379747])"
      ]
     },
     "execution_count": 15,
     "metadata": {},
     "output_type": "execute_result"
    }
   ],
   "source": [
    "# Applying k-Fold Cross Validation\n",
    "from sklearn.model_selection import cross_val_score\n",
    "accuracies = cross_val_score(estimator = clf, X = x_train, y = y_train, cv = 10)\n",
    "accuracies"
   ]
  },
  {
   "cell_type": "code",
   "execution_count": 16,
   "metadata": {},
   "outputs": [
    {
     "name": "stdout",
     "output_type": "stream",
     "text": [
      "mean of acc: 0.8428606898336121\n",
      "Standard diviation of acc: 0.02569922276809512\n"
     ]
    }
   ],
   "source": [
    "print(\"mean of acc:\", accuracies.mean())\n",
    "print(\"Standard diviation of acc:\", accuracies.std())"
   ]
  },
  {
   "cell_type": "code",
   "execution_count": 17,
   "metadata": {},
   "outputs": [
    {
     "name": "stdout",
     "output_type": "stream",
     "text": [
      "model acc : 0.84 (+/- 0.03)%\n"
     ]
    }
   ],
   "source": [
    "print(\"model acc : {:.2f} (+/- {:.2f})%\".format(accuracies.mean(), accuracies.std()))"
   ]
  },
  {
   "cell_type": "markdown",
   "metadata": {},
   "source": [
    "--------------------------------------------------------------------------------------------------------------------------------"
   ]
  },
  {
   "cell_type": "markdown",
   "metadata": {},
   "source": [
    "# Gender API"
   ]
  },
  {
   "cell_type": "code",
   "execution_count": 18,
   "metadata": {},
   "outputs": [],
   "source": [
    "data = pd.read_csv(\"names_dataset.csv\")"
   ]
  },
  {
   "cell_type": "code",
   "execution_count": 485,
   "metadata": {},
   "outputs": [],
   "source": [
    "data = pd.read_csv(\"names_dataset.csv\")\n",
    "data.set_index('index' , inplace=True)\n",
    "\n",
    "data['falpha'] = '0'\n",
    "data['lalpha'] = '0'\n",
    "data['len'] = 0\n",
    "\n",
    "def get_vector(row):\n",
    "    \n",
    "    row['falpha'] = row['name'][0]\n",
    "    row['lalpha'] = row['name'][-1]\n",
    "    row['len'] = len(row['name'])\n",
    "    return row"
   ]
  },
  {
   "cell_type": "code",
   "execution_count": 486,
   "metadata": {
    "scrolled": true
   },
   "outputs": [],
   "source": [
    "data = data.apply(get_vector , 1)"
   ]
  },
  {
   "cell_type": "code",
   "execution_count": 489,
   "metadata": {},
   "outputs": [
    {
     "data": {
      "text/html": [
       "<div>\n",
       "<style scoped>\n",
       "    .dataframe tbody tr th:only-of-type {\n",
       "        vertical-align: middle;\n",
       "    }\n",
       "\n",
       "    .dataframe tbody tr th {\n",
       "        vertical-align: top;\n",
       "    }\n",
       "\n",
       "    .dataframe thead th {\n",
       "        text-align: right;\n",
       "    }\n",
       "</style>\n",
       "<table border=\"1\" class=\"dataframe\">\n",
       "  <thead>\n",
       "    <tr style=\"text-align: right;\">\n",
       "      <th></th>\n",
       "      <th>name</th>\n",
       "      <th>sex</th>\n",
       "      <th>falpha</th>\n",
       "      <th>lalpha</th>\n",
       "      <th>len</th>\n",
       "    </tr>\n",
       "    <tr>\n",
       "      <th>index</th>\n",
       "      <th></th>\n",
       "      <th></th>\n",
       "      <th></th>\n",
       "      <th></th>\n",
       "      <th></th>\n",
       "    </tr>\n",
       "  </thead>\n",
       "  <tbody>\n",
       "    <tr>\n",
       "      <th>0</th>\n",
       "      <td>Mary</td>\n",
       "      <td>F</td>\n",
       "      <td>M</td>\n",
       "      <td>y</td>\n",
       "      <td>4</td>\n",
       "    </tr>\n",
       "    <tr>\n",
       "      <th>1</th>\n",
       "      <td>Anna</td>\n",
       "      <td>F</td>\n",
       "      <td>A</td>\n",
       "      <td>a</td>\n",
       "      <td>4</td>\n",
       "    </tr>\n",
       "    <tr>\n",
       "      <th>2</th>\n",
       "      <td>Emma</td>\n",
       "      <td>F</td>\n",
       "      <td>E</td>\n",
       "      <td>a</td>\n",
       "      <td>4</td>\n",
       "    </tr>\n",
       "    <tr>\n",
       "      <th>3</th>\n",
       "      <td>Elizabeth</td>\n",
       "      <td>F</td>\n",
       "      <td>E</td>\n",
       "      <td>h</td>\n",
       "      <td>9</td>\n",
       "    </tr>\n",
       "    <tr>\n",
       "      <th>4</th>\n",
       "      <td>Minnie</td>\n",
       "      <td>F</td>\n",
       "      <td>M</td>\n",
       "      <td>e</td>\n",
       "      <td>6</td>\n",
       "    </tr>\n",
       "  </tbody>\n",
       "</table>\n",
       "</div>"
      ],
      "text/plain": [
       "            name sex falpha lalpha  len\n",
       "index                                  \n",
       "0           Mary   F      M      y    4\n",
       "1           Anna   F      A      a    4\n",
       "2           Emma   F      E      a    4\n",
       "3      Elizabeth   F      E      h    9\n",
       "4         Minnie   F      M      e    6"
      ]
     },
     "execution_count": 489,
     "metadata": {},
     "output_type": "execute_result"
    }
   ],
   "source": [
    "data.head()"
   ]
  },
  {
   "cell_type": "code",
   "execution_count": 490,
   "metadata": {},
   "outputs": [],
   "source": [
    "feature = data.iloc[:,[2,3,4]].values\n",
    "test = data.iloc[:,1].values\n",
    "\n",
    "from sklearn.preprocessing import LabelEncoder\n",
    "\n",
    "encoder = LabelEncoder()\n",
    "\n",
    "alpha = ['A', 'B','C','D','E','F','G','H','I','J','K','L','M','N','O','P','Q','R','S','T','U','V','W','X','Y','Z',\n",
    "         'a', 'b','c','d','e','f','g','h','i','j','k','l','m','n','o','p','q','r','s','t','u','v','w','x','y','z']\n",
    "encoder.fit(alpha)\n",
    "\n",
    "feature[:,0] = encoder.transform(feature[:,0])\n",
    "feature[:,1] = encoder.transform(feature[:,1])\n",
    "\n",
    "\n",
    "\n",
    "\n",
    "\n",
    "from sklearn.model_selection import train_test_split\n",
    "\n",
    "x_train, x_test, y_train, y_test = train_test_split(feature, test\n",
    "                                                    , test_size=0.2, random_state=0)\n"
   ]
  },
  {
   "cell_type": "code",
   "execution_count": 491,
   "metadata": {},
   "outputs": [
    {
     "name": "stdout",
     "output_type": "stream",
     "text": [
      "             precision    recall  f1-score   support\n",
      "\n",
      "          F       0.88      0.64      0.74     12068\n",
      "          M       0.57      0.84      0.68      6937\n",
      "\n",
      "avg / total       0.76      0.71      0.72     19005\n",
      "\n"
     ]
    }
   ],
   "source": [
    "from sklearn.svm import LinearSVC\n",
    "from sklearn.metrics import classification_report\n",
    "\n",
    "clf = LinearSVC()\n",
    "\n",
    "clf.fit(x_train, y_train)\n",
    "\n",
    "y_pred = clf.predict(x_test)\n",
    "\n",
    "print(classification_report(y_test, y_pred))"
   ]
  },
  {
   "cell_type": "code",
   "execution_count": 497,
   "metadata": {},
   "outputs": [],
   "source": [
    "name_tst = \"Ali\"\n",
    "f_alpha = name_tst[0]\n",
    "l_alpha = name_tst[-1]\n",
    "length = len(name_tst)\n",
    "\n",
    "\n",
    "f_alpha = encoder.transform([f_alpha])[0]\n",
    "l_alpha = encoder.transform([l_alpha])[0]\n",
    "\n"
   ]
  },
  {
   "cell_type": "code",
   "execution_count": 542,
   "metadata": {},
   "outputs": [],
   "source": [
    "y_pred = clf.predict([[f_alpha, l_alpha,  length]])[0]"
   ]
  },
  {
   "cell_type": "code",
   "execution_count": 543,
   "metadata": {},
   "outputs": [
    {
     "data": {
      "text/plain": [
       "'M'"
      ]
     },
     "execution_count": 543,
     "metadata": {},
     "output_type": "execute_result"
    }
   ],
   "source": [
    "y_pred"
   ]
  },
  {
   "cell_type": "markdown",
   "metadata": {},
   "source": [
    "--------------------------------------------------------------------------------------------------------------------------------"
   ]
  },
  {
   "cell_type": "markdown",
   "metadata": {},
   "source": [
    "# TwitterScraper"
   ]
  },
  {
   "cell_type": "code",
   "execution_count": 556,
   "metadata": {},
   "outputs": [
    {
     "name": "stderr",
     "output_type": "stream",
     "text": [
      "INFO: queries: ['trump since:2006-03-21 until:2006-11-03', 'trump since:2006-11-03 until:2007-06-19', 'trump since:2007-06-19 until:2008-02-02', 'trump since:2008-02-02 until:2008-09-17', 'trump since:2008-09-17 until:2009-05-03', 'trump since:2009-05-03 until:2009-12-16', 'trump since:2009-12-16 until:2010-08-01', 'trump since:2010-08-01 until:2011-03-17', 'trump since:2011-03-17 until:2011-10-31', 'trump since:2011-10-31 until:2012-06-15', 'trump since:2012-06-15 until:2013-01-28', 'trump since:2013-01-28 until:2013-09-13', 'trump since:2013-09-13 until:2014-04-29', 'trump since:2014-04-29 until:2014-12-13', 'trump since:2014-12-13 until:2015-07-29', 'trump since:2015-07-29 until:2016-03-12', 'trump since:2016-03-12 until:2016-10-26', 'trump since:2016-10-26 until:2017-06-11', 'trump since:2017-06-11 until:2018-01-25', 'trump since:2018-01-25 until:2018-09-10']\n",
      "INFO: Got 0 tweets (0 new).\n",
      "INFO: Got 0 tweets (0 new).\n",
      "INFO: Got 0 tweets (0 new).\n",
      "INFO: Got 0 tweets (0 new).\n",
      "INFO: Got 1 tweets (1 new).\n",
      "INFO: Got 21 tweets (20 new).\n",
      "INFO: Got 23 tweets (2 new).\n",
      "INFO: Got 43 tweets (20 new).\n",
      "INFO: Got 43 tweets (0 new).\n",
      "INFO: Got 63 tweets (20 new).\n",
      "INFO: Got 83 tweets (20 new).\n",
      "INFO: Got 83 tweets (0 new).\n",
      "INFO: Got 103 tweets (20 new).\n",
      "INFO: Got 123 tweets (20 new).\n",
      "INFO: Got 143 tweets (20 new).\n",
      "INFO: Got 163 tweets (20 new).\n",
      "INFO: Got 183 tweets (20 new).\n",
      "INFO: Got 203 tweets (20 new).\n",
      "INFO: Got 223 tweets (20 new).\n",
      "INFO: Got 243 tweets (20 new).\n"
     ]
    }
   ],
   "source": [
    "from twitterscraper import query_tweets\n",
    "\n",
    "list_of_tweets = query_tweets(\"trump\", limit=3, lang='ar')\n"
   ]
  },
  {
   "cell_type": "markdown",
   "metadata": {},
   "source": [
    "# data Filteration"
   ]
  },
  {
   "cell_type": "code",
   "execution_count": 875,
   "metadata": {},
   "outputs": [],
   "source": [
    "new_tweets = []\n",
    "for tweet in list_of_tweets:\n",
    "    mod_tweet = tweet.text.strip()\n",
    "\n",
    "    mod_tweet = re.sub(r'\\n',' ' , mod_tweet)\n",
    "\n",
    "\n",
    "    mod_tweet = re.sub(r'[a-zA-Z0-9//-_]+|[^\\w]+',' ',mod_tweet)\n",
    "\n",
    "    mod_tweet = mod_tweet.strip()\n",
    "\n",
    "    mod_tweet = re.sub(' +',' ',mod_tweet)\n",
    "    \n",
    "    new_tweets.append(mod_tweet)\n"
   ]
  },
  {
   "cell_type": "code",
   "execution_count": 900,
   "metadata": {},
   "outputs": [],
   "source": [
    "neg_counter = 0\n",
    "pos_counter = 0\n",
    "\n",
    "for tweet in new_tweets:\n",
    "\n",
    "    feature_matrix = vectorizer.transform([tweet])\n",
    "    y_pred = clf.predict(feature_matrix)[0]\n",
    "    if(y_pred == 'n'):\n",
    "        neg_counter += 1\n",
    "    elif(y_pred == 'p'):\n",
    "        pos_counter += 1\n",
    "    \n",
    "    \n",
    "    \n",
    "    "
   ]
  },
  {
   "cell_type": "code",
   "execution_count": 909,
   "metadata": {},
   "outputs": [
    {
     "data": {
      "image/png": "[encoded data removed]",
      "text/plain": [
       "<matplotlib.figure.Figure at 0x25b041b4518>"
      ]
     },
     "metadata": {},
     "output_type": "display_data"
    }
   ],
   "source": [
    "labels = ['neg' , 'pos']\n",
    "sizes  = [neg_counter , pos_counter]\n",
    "explode = np.zeros(len(sizes))\n",
    "explode[0] = 0.1\n",
    "explode[1] = 0.1\n",
    "\n",
    "plt.pie(sizes, explode=explode, labels=labels,\n",
    "        autopct='%1.2f%%', shadow=True, radius=1.7)\n",
    " \n",
    "plt.show()"
   ]
  },
  {
   "cell_type": "markdown",
   "metadata": {},
   "source": [
    "# Put it in one function"
   ]
  },
  {
   "cell_type": "code",
   "execution_count": 917,
   "metadata": {},
   "outputs": [],
   "source": [
    "def twitter_scrap(l, desired_tweet):\n",
    "    \n",
    "    list_of_tweets = query_tweets(desired_tweet, limit=l, lang='ar')\n",
    "\n",
    "    new_tweets = []\n",
    "    for tweet in list_of_tweets:\n",
    "        mod_tweet = tweet.text.strip()\n",
    "\n",
    "        mod_tweet = re.sub(r'\\n',' ' , mod_tweet)\n",
    "\n",
    "\n",
    "        mod_tweet = re.sub(r'[a-zA-Z0-9//-_]+|[^\\w]+',' ',mod_tweet)\n",
    "\n",
    "        mod_tweet = mod_tweet.strip()\n",
    "\n",
    "        mod_tweet = re.sub(' +',' ',mod_tweet)\n",
    "\n",
    "        new_tweets.append(mod_tweet)\n",
    "\n",
    "\n",
    "    neg_counter = 0\n",
    "    pos_counter = 0\n",
    "\n",
    "    for tweet in new_tweets:\n",
    "\n",
    "        feature_matrix = vectorizer.transform([tweet])\n",
    "        y_pred = clf.predict(feature_matrix)[0]\n",
    "        if(y_pred == 'n'):\n",
    "            neg_counter += 1\n",
    "        elif(y_pred == 'p'):\n",
    "            pos_counter += 1\n",
    "\n",
    "\n",
    "\n",
    "    labels = ['neg' , 'pos']\n",
    "    sizes  = [neg_counter , pos_counter]\n",
    "    explode = np.zeros(len(sizes))\n",
    "    explode[0] = 0.1\n",
    "    explode[1] = 0.1\n",
    "\n",
    "    plt.pie(sizes, explode=explode, labels=labels,\n",
    "            autopct='%1.2f%%', shadow=True, radius=1.7)\n",
    "\n",
    "    plt.show()\n"
   ]
  },
  {
   "cell_type": "code",
   "execution_count": 916,
   "metadata": {},
   "outputs": [],
   "source": [
    "import time\n",
    "\n",
    "i = 0\n",
    "while i<3:\n",
    "    twitter_scrap, args=(3,'Trump')\n",
    "    time.sleep(10)\n",
    "    i += 1"
   ]
  },
  {
   "cell_type": "code",
   "execution_count": 913,
   "metadata": {},
   "outputs": [],
   "source": []
  },
  {
   "cell_type": "code",
   "execution_count": 929,
   "metadata": {
    "scrolled": true
   },
   "outputs": [
    {
     "data": {
      "image/png": "[encoded data removed]",
      "text/plain": [
       "<matplotlib.figure.Figure at 0x25b09bcc470>"
      ]
     },
     "metadata": {},
     "output_type": "display_data"
    }
   ],
   "source": [
    "labels = ['neg' , 'pos']\n",
    "sizes  = [20 , 50]\n",
    "explode = np.zeros(len(sizes))\n",
    "explode[0] = 0.1\n",
    "explode[1] = 0.1\n",
    "\n",
    "ax = plt.subplot(111)\n",
    "#fig = plt.figure()\n",
    "plt.pie(sizes, explode=explode, labels=labels,\n",
    "        autopct='%1.2f%%', shadow=True, radius=1.7)\n",
    " \n",
    "plt.show()\n"
   ]
  },
  {
   "cell_type": "code",
   "execution_count": null,
   "metadata": {},
   "outputs": [],
   "source": []
  },
  {
   "cell_type": "code",
   "execution_count": 3,
   "metadata": {},
   "outputs": [
    {
     "name": "stderr",
     "output_type": "stream",
     "text": [
      "100%|██████████████████████████████████████████████████████████████████████████████████| 60/60 [01:00<00:00,  1.00s/it]\n"
     ]
    }
   ],
   "source": [
    "n = 0\n",
    "for i in tqdm(range(0,60)):\n",
    "    time.sleep(1)\n",
    "    "
   ]
  },
  {
   "cell_type": "code",
   "execution_count": null,
   "metadata": {},
   "outputs": [],
   "source": []
  },
  {
   "cell_type": "code",
   "execution_count": null,
   "metadata": {},
   "outputs": [],
   "source": []
  },
  {
   "cell_type": "code",
   "execution_count": null,
   "metadata": {},
   "outputs": [],
   "source": []
  },
  {
   "cell_type": "code",
   "execution_count": null,
   "metadata": {},
   "outputs": [],
   "source": []
  }
 ],
 "metadata": {
  "kernelspec": {
   "display_name": "Python 3",
   "language": "python",
   "name": "python3"
  },
  "language_info": {
   "codemirror_mode": {
    "name": "ipython",
    "version": 3
   },
   "file_extension": ".py",
   "mimetype": "text/x-python",
   "name": "python",
   "nbconvert_exporter": "python",
   "pygments_lexer": "ipython3",
   "version": "3.6.4"
  }
 },
 "nbformat": 4,
 "nbformat_minor": 2
}
